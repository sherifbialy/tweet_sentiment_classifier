{
  "cells": [
    {
      "cell_type": "code",
      "execution_count": null,
      "metadata": {
        "id": "kkBpasOtkNP9"
      },
      "outputs": [],
      "source": [
        "# Arabic Tweets Emotion Recognition\n",
        "# Team 15"
      ]
    },
    {
      "cell_type": "code",
      "execution_count": null,
      "metadata": {
        "colab": {
          "base_uri": "https://localhost:8080/"
        },
        "id": "AFuUCM-bkNQX",
        "outputId": "4fd9deb5-1488-4f6e-e56f-c04fcb750ed9",
        "scrolled": true
      },
      "outputs": [
        {
          "name": "stdout",
          "output_type": "stream",
          "text": [
            "Looking in indexes: https://pypi.org/simple, https://us-python.pkg.dev/colab-wheels/public/simple/\n",
            "Requirement already satisfied: chardet in /usr/local/lib/python3.10/dist-packages (4.0.0)\n",
            "Looking in indexes: https://pypi.org/simple, https://us-python.pkg.dev/colab-wheels/public/simple/\n",
            "Requirement already satisfied: wordcloud in /usr/local/lib/python3.10/dist-packages (1.8.2.2)\n",
            "Requirement already satisfied: numpy>=1.6.1 in /usr/local/lib/python3.10/dist-packages (from wordcloud) (1.22.4)\n",
            "Requirement already satisfied: pillow in /usr/local/lib/python3.10/dist-packages (from wordcloud) (8.4.0)\n",
            "Requirement already satisfied: matplotlib in /usr/local/lib/python3.10/dist-packages (from wordcloud) (3.7.1)\n",
            "Requirement already satisfied: contourpy>=1.0.1 in /usr/local/lib/python3.10/dist-packages (from matplotlib->wordcloud) (1.0.7)\n",
            "Requirement already satisfied: cycler>=0.10 in /usr/local/lib/python3.10/dist-packages (from matplotlib->wordcloud) (0.11.0)\n",
            "Requirement already satisfied: fonttools>=4.22.0 in /usr/local/lib/python3.10/dist-packages (from matplotlib->wordcloud) (4.39.3)\n",
            "Requirement already satisfied: kiwisolver>=1.0.1 in /usr/local/lib/python3.10/dist-packages (from matplotlib->wordcloud) (1.4.4)\n",
            "Requirement already satisfied: packaging>=20.0 in /usr/local/lib/python3.10/dist-packages (from matplotlib->wordcloud) (23.1)\n",
            "Requirement already satisfied: pyparsing>=2.3.1 in /usr/local/lib/python3.10/dist-packages (from matplotlib->wordcloud) (3.0.9)\n",
            "Requirement already satisfied: python-dateutil>=2.7 in /usr/local/lib/python3.10/dist-packages (from matplotlib->wordcloud) (2.8.2)\n",
            "Requirement already satisfied: six>=1.5 in /usr/local/lib/python3.10/dist-packages (from python-dateutil>=2.7->matplotlib->wordcloud) (1.16.0)\n",
            "Looking in indexes: https://pypi.org/simple, https://us-python.pkg.dev/colab-wheels/public/simple/\n",
            "Requirement already satisfied: arabic-reshaper in /usr/local/lib/python3.10/dist-packages (3.0.0)\n",
            "Looking in indexes: https://pypi.org/simple, https://us-python.pkg.dev/colab-wheels/public/simple/\n",
            "Requirement already satisfied: python-bidi in /usr/local/lib/python3.10/dist-packages (0.4.2)\n",
            "Requirement already satisfied: six in /usr/local/lib/python3.10/dist-packages (from python-bidi) (1.16.0)\n"
          ]
        }
      ],
      "source": [
        "!pip install chardet\n",
        "!pip install wordcloud\n",
        "!pip install arabic-reshaper\n",
        "!pip install python-bidi"
      ]
    },
    {
      "cell_type": "code",
      "execution_count": null,
      "metadata": {
        "colab": {
          "base_uri": "https://localhost:8080/"
        },
        "id": "V8LktHGTmJor",
        "outputId": "e754e2c0-0d8c-49ef-a1b1-8efffc78fd31"
      },
      "outputs": [
        {
          "name": "stdout",
          "output_type": "stream",
          "text": [
            "Drive already mounted at /content/drive; to attempt to forcibly remount, call drive.mount(\"/content/drive\", force_remount=True).\n"
          ]
        }
      ],
      "source": [
        "from google.colab import drive\n",
        "drive.mount('/content/drive')"
      ]
    },
    {
      "cell_type": "code",
      "execution_count": null,
      "metadata": {
        "id": "w6fCqJ6xkNQe"
      },
      "outputs": [],
      "source": [
        "import os\n",
        "import glob\n",
        "import codecs\n",
        "\n",
        "folder_path_neg = '/content/drive/MyDrive/Twitter/Negative'\n",
        "folder_path_pos = '/content/drive/MyDrive/Twitter/Positive'\n",
        "\n",
        "text_files_neg = {}\n",
        "text_files_pos = {}\n",
        "\n",
        "for file_path in glob.glob(os.path.join(folder_path_neg, '*.txt')):\n",
        "    with open(file_path, 'r',encoding='UTF-8-SIG',errors='replace') as file:\n",
        "        file_contents = file.read()\n",
        "    text_files_neg[os.path.basename(file_path)] = file_contents\n",
        "\n",
        "for file_path in glob.glob(os.path.join(folder_path_pos, '*.txt')):\n",
        "    with open(file_path, 'r',encoding='UTF-8-SIG',errors='replace') as file:\n",
        "        file_contents = file.read()\n",
        "    text_files_pos[os.path.basename(file_path)] = file_contents\n"
      ]
    },
    {
      "cell_type": "code",
      "execution_count": null,
      "metadata": {
        "colab": {
          "base_uri": "https://localhost:8080/"
        },
        "id": "YQoENQOfkNQj",
        "outputId": "89284230-d3b0-42f9-9c2e-e980b5d545f1"
      },
      "outputs": [
        {
          "name": "stdout",
          "output_type": "stream",
          "text": [
            "هاض بعرفو بس مقرف\n",
            "\n"
          ]
        }
      ],
      "source": [
        "print(text_files_neg[list(text_files_neg.keys())[1]])"
      ]
    },
    {
      "cell_type": "code",
      "execution_count": null,
      "metadata": {
        "colab": {
          "base_uri": "https://localhost:8080/"
        },
        "id": "kvbJ4RKLkNQm",
        "outputId": "2cbc8f6b-e23f-4e57-be13-7fccad3fdf59"
      },
      "outputs": [
        {
          "name": "stdout",
          "output_type": "stream",
          "text": [
            "صدقت يا أستاذ عمر\n",
            "\n"
          ]
        }
      ],
      "source": [
        "print(text_files_pos[list(text_files_pos.keys())[2]])"
      ]
    },
    {
      "cell_type": "code",
      "execution_count": null,
      "metadata": {
        "colab": {
          "base_uri": "https://localhost:8080/"
        },
        "id": "t-_5Xl_0kNQo",
        "outputId": "0585828b-c6c9-4281-8155-44af839621ce"
      },
      "outputs": [
        {
          "name": "stdout",
          "output_type": "stream",
          "text": [
            "The number of  records of the positive dataset is 1000 \n",
            "The data volume of the positive dataset is 35.25 MB\n",
            "The number of  records of the negative dataset is 1000 \n",
            "The data volume of the negative dataset is 35.25 MB\n"
          ]
        }
      ],
      "source": [
        "import pandas as pd\n",
        "import sys\n",
        "\n",
        "\n",
        "\n",
        "num_records_pos = len(text_files_pos)\n",
        "num_records_neg = len(text_files_neg)\n",
        "\n",
        "record_size_pos = sys.getsizeof(text_files_pos)\n",
        "record_size_neg = sys.getsizeof(text_files_neg)\n",
        "\n",
        "data_volume_pos = num_records_pos * record_size_pos\n",
        "data_volume_neg = num_records_neg * record_size_neg\n",
        "data_volume_pos_mb = data_volume_pos / (1024 * 1024)\n",
        "data_volume_neg_mb = data_volume_neg / (1024 * 1024)\n",
        "\n",
        "\n",
        "print(f\"The number of  records of the positive dataset is {num_records_pos} \")\n",
        "print(f\"The data volume of the positive dataset is {data_volume_pos_mb:.2f} MB\")\n",
        "print(f\"The number of  records of the negative dataset is {num_records_neg} \")\n",
        "print(f\"The data volume of the negative dataset is {data_volume_neg_mb:.2f} MB\")\n",
        "\n",
        "\n"
      ]
    },
    {
      "cell_type": "code",
      "execution_count": null,
      "metadata": {
        "colab": {
          "base_uri": "https://localhost:8080/"
        },
        "id": "PmITLZLvoU5R",
        "outputId": "35bc171e-60e6-47a5-abc5-73da66ed530b"
      },
      "outputs": [
        {
          "name": "stdout",
          "output_type": "stream",
          "text": [
            "Looking in indexes: https://pypi.org/simple, https://us-python.pkg.dev/colab-wheels/public/simple/\n",
            "Requirement already satisfied: pyarabic in /usr/local/lib/python3.10/dist-packages (0.6.15)\n",
            "Requirement already satisfied: six>=1.14.0 in /usr/local/lib/python3.10/dist-packages (from pyarabic) (1.16.0)\n"
          ]
        }
      ],
      "source": [
        "pip install pyarabic"
      ]
    },
    {
      "cell_type": "code",
      "execution_count": null,
      "metadata": {
        "colab": {
          "base_uri": "https://localhost:8080/"
        },
        "id": "otKOjysckNQr",
        "outputId": "2f17ad1f-71fa-4a4a-d8f1-438add2658ee"
      },
      "outputs": [
        {
          "name": "stdout",
          "output_type": "stream",
          "text": [
            "Total word count of positive tweets: 8675\n",
            "Total word count of negative tweets: 11731\n"
          ]
        }
      ],
      "source": [
        "import pyarabic.araby as araby\n",
        "from collections import Counter\n",
        "\n",
        "\n",
        "\n",
        "def count_words(sentences_dict):\n",
        "    all_sentences = \" \".join(sentences_dict.values())\n",
        "    words = araby.tokenize(all_sentences)\n",
        "    word_freq = Counter(words)\n",
        "    return sum(word_freq.values())\n",
        "\n",
        "\n",
        "total_word_count_pos = count_words(text_files_pos)\n",
        "total_word_count_neg = count_words(text_files_neg)\n",
        "\n",
        "print(f\"Total word count of positive tweets: {total_word_count_pos}\")\n",
        "print(f\"Total word count of negative tweets: {total_word_count_neg}\")\n"
      ]
    },
    {
      "cell_type": "code",
      "execution_count": null,
      "metadata": {
        "colab": {
          "base_uri": "https://localhost:8080/",
          "height": 472
        },
        "id": "KX7Fl4ffkNQv",
        "outputId": "8791b552-4fab-4876-a8a3-245e545d8757"
      },
      "outputs": [
        {
          "data": {
            "image/png": "[encoded data removed]",
            "text/plain": [
              "<Figure size 640x480 with 1 Axes>"
            ]
          },
          "metadata": {},
          "output_type": "display_data"
        }
      ],
      "source": [
        "import numpy as np\n",
        "import matplotlib.pyplot as plt\n",
        "\n",
        "\n",
        "word_lengths = []\n",
        "for sentence in text_files_pos.values():\n",
        "    for word in sentence.split():\n",
        "        word_lengths.append(len(word))\n",
        "\n",
        "\n",
        "mean = np.mean(word_lengths)\n",
        "std_dev = np.std(word_lengths)\n",
        "\n",
        "dist = np.random.normal(mean, std_dev, 1000)\n",
        "\n",
        "\n",
        "plt.hist(dist, bins=50)\n",
        "plt.xlabel('Word Length')\n",
        "plt.ylabel('Frequency')\n",
        "plt.title('Distribution of Word Lengths in Positive Arabic Tweets')\n",
        "plt.show()"
      ]
    },
    {
      "cell_type": "code",
      "execution_count": null,
      "metadata": {
        "colab": {
          "base_uri": "https://localhost:8080/",
          "height": 472
        },
        "id": "Ugwvi-M9kNQz",
        "outputId": "8b6bb2c6-5bbe-4d4d-b114-4b1cb9fcd874"
      },
      "outputs": [
        {
          "data": {
            "image/png": "[encoded data removed]",
            "text/plain": [
              "<Figure size 640x480 with 1 Axes>"
            ]
          },
          "metadata": {},
          "output_type": "display_data"
        }
      ],
      "source": [
        "import numpy as np\n",
        "import matplotlib.pyplot as plt\n",
        "\n",
        "\n",
        "word_lengths = []\n",
        "for sentence in text_files_neg.values():\n",
        "    for word in sentence.split():\n",
        "        word_lengths.append(len(word))\n",
        "\n",
        "\n",
        "mean = np.mean(word_lengths)\n",
        "std_dev = np.std(word_lengths)\n",
        "dist = np.random.normal(mean, std_dev, 1000)\n",
        "\n",
        "# Plot the distribution of word lengths\n",
        "plt.hist(dist, bins=50)\n",
        "plt.xlabel('Word Length')\n",
        "plt.ylabel('Frequency')\n",
        "plt.title('Distribution of Word Lengths in Negative Arabic Tweets')\n",
        "plt.show()"
      ]
    },
    {
      "cell_type": "code",
      "execution_count": null,
      "metadata": {
        "colab": {
          "base_uri": "https://localhost:8080/",
          "height": 496
        },
        "id": "qlMoqGLMkNQ1",
        "outputId": "7a5b7f0d-aa36-4e9e-dc9d-3bc9f77f7d3a"
      },
      "outputs": [
        {
          "data": {
            "image/png": "[encoded data removed]",
            "text/plain": [
              "<Figure size 640x480 with 1 Axes>"
            ]
          },
          "metadata": {},
          "output_type": "display_data"
        }
      ],
      "source": [
        "import pyarabic.araby as araby\n",
        "import matplotlib.pyplot as plt\n",
        "from collections import Counter\n",
        "from arabic_reshaper import reshape\n",
        "from bidi.algorithm import get_display\n",
        "\n",
        "\n",
        "\n",
        "def most_common_words(text, num_words):\n",
        "    words = araby.tokenize(text)\n",
        "    word_freq = Counter(words)\n",
        "    most_common = word_freq.most_common(num_words)\n",
        "    return most_common\n",
        "\n",
        "\n",
        "num_words = 10\n",
        "common_words = []\n",
        "for sentence in text_files_pos.values():\n",
        "    common_words += most_common_words(sentence, num_words)\n",
        "\n",
        "\n",
        "word_freq = dict(common_words)\n",
        "word_freq = dict(sorted(word_freq.items(), key=lambda x: x[1], reverse=True)[:10])\n",
        "\n",
        "# Plot a bar chart of the most common words\n",
        "plt.bar(range(len(word_freq)), list(word_freq.values()), align='center')\n",
        "plt.xticks(range(len(word_freq)), [get_display(reshape(word)) for word in word_freq.keys()], rotation=90)\n",
        "plt.xlabel('Word')\n",
        "plt.ylabel('Frequency')\n",
        "plt.title(f'Most Common {num_words} Words in Positive Arabic Tweets')\n",
        "plt.show()\n"
      ]
    },
    {
      "cell_type": "code",
      "execution_count": null,
      "metadata": {
        "colab": {
          "base_uri": "https://localhost:8080/",
          "height": 504
        },
        "id": "V2i0K9qOkNQ3",
        "outputId": "1eb91bb4-cfd6-4c75-e9ac-0e5d97ccfb76"
      },
      "outputs": [
        {
          "data": {
            "image/png": "[encoded data removed]",
            "text/plain": [
              "<Figure size 640x480 with 1 Axes>"
            ]
          },
          "metadata": {},
          "output_type": "display_data"
        }
      ],
      "source": [
        "import pyarabic.araby as araby\n",
        "import matplotlib.pyplot as plt\n",
        "from collections import Counter\n",
        "from arabic_reshaper import reshape\n",
        "from bidi.algorithm import get_display\n",
        "\n",
        "\n",
        "def most_common_words(text, num_words):\n",
        "    words = araby.tokenize(text)\n",
        "    word_freq = Counter(words)\n",
        "    most_common = word_freq.most_common(num_words)\n",
        "\n",
        "    return most_common\n",
        "\n",
        "\n",
        "num_words = 10\n",
        "\n",
        "\n",
        "common_words = []\n",
        "for sentence in text_files_neg.values():\n",
        "    common_words += most_common_words(sentence, num_words)\n",
        "\n",
        "\n",
        "word_freq = dict(common_words)\n",
        "\n",
        "\n",
        "word_freq = dict(sorted(word_freq.items(), key=lambda x: x[1], reverse=True)[:10])\n",
        "\n",
        "# Plot a bar chart of the most common words\n",
        "plt.bar(range(len(word_freq)), list(word_freq.values()), align='center')\n",
        "plt.xticks(range(len(word_freq)), [get_display(reshape(word)) for word in word_freq.keys()], rotation=90)\n",
        "plt.xlabel('Word')\n",
        "plt.ylabel('Frequency')\n",
        "plt.title(f'Most Common {num_words} Words in Negative Arabic Tweets')\n",
        "plt.show()\n"
      ]
    },
    {
      "cell_type": "code",
      "execution_count": null,
      "metadata": {
        "id": "FMNfiIQPp-VW"
      },
      "outputs": [],
      "source": [
        "!pip install pyspellchecker\n",
        "!pip install --upgrade pyspellchecker\n",
        "\n"
      ]
    },
    {
      "cell_type": "code",
      "execution_count": null,
      "metadata": {
        "colab": {
          "background_save": true,
          "base_uri": "https://localhost:8080/"
        },
        "id": "DzAG2FThkNQ5",
        "outputId": "d81f1398-e7d1-4dbe-b1f7-915db9e8cd39"
      },
      "outputs": [
        {
          "name": "stderr",
          "output_type": "stream",
          "text": [
            "[nltk_data] Downloading package stopwords to /root/nltk_data...\n",
            "[nltk_data]   Package stopwords is already up-to-date!\n"
          ]
        },
        {
          "name": "stdout",
          "output_type": "stream",
          "text": [
            "Number of stop words removed from negative tweets: 1944\n",
            "Number of misspelled words corrected in negative tweets: 142\n"
          ]
        }
      ],
      "source": [
        "from spellchecker import SpellChecker\n",
        "# from spellchecker.spellchecker import SpellChecker\n",
        "from nltk.corpus import stopwords\n",
        "import nltk\n",
        "import pyarabic.araby as araby\n",
        "\n",
        "\n",
        "spell = SpellChecker(language='ar')\n",
        "\n",
        "\n",
        "nltk.download('stopwords')\n",
        "stop_words = set(stopwords.words('arabic'))\n",
        "\n",
        "\n",
        "def check_spelling(word):\n",
        "\n",
        "    if spell.correction(word) == word:\n",
        "        return True\n",
        "    else:\n",
        "        return False\n",
        "\n",
        "def correct_spelling(word):\n",
        "    if spell.correction(word) == word:\n",
        "        return word\n",
        "    else:\n",
        "        corrections = spell.candidates(word)\n",
        "        if corrections:\n",
        "            return list(corrections)[0]\n",
        "        else:\n",
        "            return word\n",
        "\n",
        "\n",
        "corrected_neg = {}\n",
        "\n",
        "\n",
        "num_stop_words_removed = 0\n",
        "num_misspelled_words_corrected = 0\n",
        "\n",
        "for key, sentence in text_files_neg.items():\n",
        "    words = sentence.split()\n",
        "    num_stop_words = sum([1 for word in words if word in stop_words])\n",
        "    num_stop_words_removed += num_stop_words\n",
        "    corrected_words = [correct_spelling(word) if not araby.is_arabicrange(word) and not check_spelling(word) else word for word in words if word not in stop_words]\n",
        "    num_misspelled_words = sum([1 for word in corrected_words if not araby.is_arabicrange(word) and not check_spelling(word)])\n",
        "    num_misspelled_words_corrected += num_misspelled_words\n",
        "    corrected_sentence = \" \".join(corrected_words)\n",
        "    corrected_neg[key] = corrected_sentence\n",
        "\n",
        "\n",
        "print(f\"Number of stop words removed from negative tweets: {num_stop_words_removed}\")\n",
        "print(f\"Number of misspelled words corrected in negative tweets: {num_misspelled_words_corrected}\")"
      ]
    },
    {
      "cell_type": "code",
      "execution_count": null,
      "metadata": {
        "colab": {
          "base_uri": "https://localhost:8080/"
        },
        "id": "OVmkOweLkNQ7",
        "outputId": "a5dfe708-243e-41d8-e56a-305aa015c904"
      },
      "outputs": [
        {
          "name": "stderr",
          "output_type": "stream",
          "text": [
            "[nltk_data] Downloading package stopwords to /root/nltk_data...\n",
            "[nltk_data]   Package stopwords is already up-to-date!\n"
          ]
        }
      ],
      "source": [
        "from spellchecker import SpellChecker\n",
        "from nltk.corpus import stopwords\n",
        "import nltk\n",
        "import pyarabic.araby as araby\n",
        "\n",
        "\n",
        "spell = SpellChecker(language='ar')\n",
        "\n",
        "\n",
        "nltk.download('stopwords')\n",
        "stop_words = set(stopwords.words('arabic'))\n",
        "\n",
        "\n",
        "def check_spelling(word):\n",
        "    if spell.correction(word) == word:\n",
        "        return True\n",
        "    else:\n",
        "        return False\n",
        "\n",
        "def correct_spelling(word):\n",
        "    if spell.correction(word) == word:\n",
        "        return word\n",
        "    else:\n",
        "        corrections = spell.candidates(word)\n",
        "        if corrections:\n",
        "            return list(corrections)[0]\n",
        "        else:\n",
        "            return word\n",
        "\n",
        "\n",
        "corrected_pos = {}\n",
        "\n",
        "\n",
        "num_stop_words_removed = 0\n",
        "num_misspelled_words_corrected = 0\n",
        "\n",
        "for key, sentence in text_files_pos.items():\n",
        "    words = sentence.split()\n",
        "    num_stop_words = sum([1 for word in words if word in stop_words])\n",
        "    num_stop_words_removed += num_stop_words\n",
        "    corrected_words = [correct_spelling(word) if not araby.is_arabicrange(word) and not check_spelling(word) else word for word in words if word not in stop_words]\n",
        "    num_misspelled_words = sum([1 for word in corrected_words if not araby.is_arabicrange(word) and not check_spelling(word)])\n",
        "    num_misspelled_words_corrected += num_misspelled_words\n",
        "    corrected_sentence = \" \".join(corrected_words)\n",
        "    corrected_pos[key] = corrected_sentence\n",
        "\n",
        "\n",
        "print(f\"Number of stop words removed from positive tweets: {num_stop_words_removed}\")\n",
        "print(f\"Number of misspelled words corrected in positive tweets: {num_misspelled_words_corrected}\")"
      ]
    },
    {
      "cell_type": "code",
      "execution_count": null,
      "metadata": {
        "colab": {
          "background_save": true
        },
        "id": "wzxuPKDVkNQ-",
        "outputId": "9402e4ec-f1ad-4222-972f-97b545b4fe42"
      },
      "outputs": [
        {
          "name": "stdout",
          "output_type": "stream",
          "text": [
            "The number of  records of the positive dataset after data cleaning is 1000 \n",
            "The data volume of the positive dataset after data cleaning is 35.25 MB\n",
            "The number of  records of the negative dataset after data cleaning is 1000 \n",
            "The data volume of the negative dataset after data cleaning is 35.25 MB\n"
          ]
        }
      ],
      "source": [
        "import pandas as pd\n",
        "import sys\n",
        "\n",
        "\n",
        "\n",
        "num_records_pos = len(corrected_pos)\n",
        "num_records_neg = len(corrected_neg)\n",
        "\n",
        "\n",
        "record_size_pos = sys.getsizeof(corrected_pos)\n",
        "record_size_neg = sys.getsizeof(corrected_neg)\n",
        "\n",
        "\n",
        "data_volume_pos = num_records_pos * record_size_pos\n",
        "data_volume_neg = num_records_neg * record_size_neg\n",
        "\n",
        "\n",
        "data_volume_pos_mb = data_volume_pos / (1024 * 1024)\n",
        "data_volume_neg_mb = data_volume_neg / (1024 * 1024)\n",
        "\n",
        "\n",
        "print(f\"The number of  records of the positive dataset after data cleaning is {num_records_pos} \")\n",
        "print(f\"The data volume of the positive dataset after data cleaning is {data_volume_pos_mb:.2f} MB\")\n",
        "print(f\"The number of  records of the negative dataset after data cleaning is {num_records_neg} \")\n",
        "print(f\"The data volume of the negative dataset after data cleaning is {data_volume_neg_mb:.2f} MB\")\n",
        "\n",
        "\n"
      ]
    },
    {
      "cell_type": "code",
      "execution_count": null,
      "metadata": {
        "id": "xCdldlbrkNRA"
      },
      "outputs": [],
      "source": [
        "import numpy as np\n",
        "import matplotlib.pyplot as plt\n",
        "\n",
        "\n",
        "word_lengths = []\n",
        "for sentence in corrected_pos.values():\n",
        "    for word in sentence.split():\n",
        "        word_lengths.append(len(word))\n",
        "\n",
        "\n",
        "mean = np.mean(word_lengths)\n",
        "std_dev = np.std(word_lengths)\n",
        "\n",
        "dist = np.random.normal(mean, std_dev, 1000)\n",
        "\n",
        "\n",
        "plt.hist(dist, bins=50)\n",
        "plt.xlabel('Word Length')\n",
        "plt.ylabel('Frequency')\n",
        "plt.title('Distribution of Word Lengths in Positive Arabic Tweets After Data Cleaning')\n",
        "plt.show()"
      ]
    },
    {
      "cell_type": "code",
      "execution_count": null,
      "metadata": {
        "id": "YhH_e-8QkNRB"
      },
      "outputs": [],
      "source": [
        "import numpy as np\n",
        "import matplotlib.pyplot as plt\n",
        "\n",
        "\n",
        "word_lengths = []\n",
        "for sentence in corrected_neg.values():\n",
        "    for word in sentence.split():\n",
        "        word_lengths.append(len(word))\n",
        "\n",
        "\n",
        "mean = np.mean(word_lengths)\n",
        "std_dev = np.std(word_lengths)\n",
        "dist = np.random.normal(mean, std_dev, 1000)\n",
        "\n",
        "plt.hist(dist, bins=50)\n",
        "plt.xlabel('Word Length')\n",
        "plt.ylabel('Frequency')\n",
        "plt.title('Distribution of Word Lengths in Negative Arabic Tweets After Data Cleaning')\n",
        "plt.show()"
      ]
    },
    {
      "cell_type": "code",
      "execution_count": null,
      "metadata": {
        "id": "ziSPK4a1kNRD"
      },
      "outputs": [],
      "source": [
        "print(text_files_pos[list(corrected_pos.keys())[2]])"
      ]
    },
    {
      "cell_type": "code",
      "execution_count": null,
      "metadata": {
        "id": "ZaRyGxVRkNRE"
      },
      "outputs": [],
      "source": [
        "import pyarabic.araby as araby\n",
        "import matplotlib.pyplot as plt\n",
        "from collections import Counter\n",
        "from arabic_reshaper import reshape\n",
        "from bidi.algorithm import get_display\n",
        "\n",
        "\n",
        "\n",
        "def most_common_words(text, num_words):\n",
        "    words = araby.tokenize(text)\n",
        "    word_freq = Counter(words)\n",
        "    most_common = word_freq.most_common(num_words)\n",
        "    return most_common\n",
        "\n",
        "\n",
        "num_words = 10\n",
        "\n",
        "\n",
        "common_words = []\n",
        "for sentence in corrected_pos.values():\n",
        "    common_words += most_common_words(sentence, num_words)\n",
        "\n",
        "\n",
        "word_freq = dict(common_words)\n",
        "word_freq = dict(sorted(word_freq.items(), key=lambda x: x[1], reverse=True)[:10])\n",
        "\n",
        "# Plot a bar chart of the most common words\n",
        "plt.bar(range(len(word_freq)), list(word_freq.values()), align='center')\n",
        "plt.xticks(range(len(word_freq)), [get_display(reshape(word)) for word in word_freq.keys()], rotation=90)\n",
        "plt.xlabel('Word')\n",
        "plt.ylabel('Frequency')\n",
        "plt.title(f'Most Common {num_words} Words in Positive Arabic Tweets After Data Cleaning')\n",
        "plt.show()\n"
      ]
    },
    {
      "cell_type": "code",
      "execution_count": null,
      "metadata": {
        "id": "pBFm9wj5kNRG"
      },
      "outputs": [],
      "source": [
        "import pyarabic.araby as araby\n",
        "import matplotlib.pyplot as plt\n",
        "from collections import Counter\n",
        "from arabic_reshaper import reshape\n",
        "from bidi.algorithm import get_display\n",
        "\n",
        "\n",
        "\n",
        "def most_common_words(text, num_words):\n",
        "    words = araby.tokenize(text)\n",
        "    word_freq = Counter(words)\n",
        "    most_common = word_freq.most_common(num_words)\n",
        "    return most_common\n",
        "\n",
        "num_words = 10\n",
        "\n",
        "\n",
        "common_words = []\n",
        "for sentence in text_files_neg.values():\n",
        "    common_words += most_common_words(sentence, num_words)\n",
        "\n",
        "word_freq = dict(common_words)\n",
        "\n",
        "\n",
        "word_freq = dict(sorted(word_freq.items(), key=lambda x: x[1], reverse=True)[:10])\n",
        "\n",
        "# Plot a bar chart of the most common words\n",
        "plt.bar(range(len(word_freq)), list(word_freq.values()), align='center')\n",
        "plt.xticks(range(len(word_freq)), [get_display(reshape(word)) for word in word_freq.keys()], rotation=90)\n",
        "plt.xlabel('Word')\n",
        "plt.ylabel('Frequency')\n",
        "plt.title(f'Most Common {num_words} Words in Negative Arabic Tweets After Data Cleaning')\n",
        "plt.show()\n"
      ]
    },
    {
      "cell_type": "code",
      "execution_count": null,
      "metadata": {
        "id": "l31c97q6kNRH"
      },
      "outputs": [],
      "source": [
        "import pyarabic.araby as araby\n",
        "from collections import Counter\n",
        "\n",
        "\n",
        "\n",
        "def count_words(sentences_dict):\n",
        "    all_sentences = \" \".join(sentences_dict.values())\n",
        "    words = araby.tokenize(all_sentences)\n",
        "    word_freq = Counter(words)\n",
        "    return sum(word_freq.values())\n",
        "\n",
        "total_word_count_pos = count_words(corrected_pos)\n",
        "total_word_count_neg = count_words(corrected_neg)\n",
        "\n",
        "print(f\"Total word count of positive tweets after data cleaning: {total_word_count_pos}\")\n",
        "print(f\"Total word count of negative tweets after data cleaning: {total_word_count_neg}\")\n"
      ]
    },
    {
      "cell_type": "code",
      "execution_count": null,
      "metadata": {
        "id": "lxVJ3KsvkNRI"
      },
      "outputs": [],
      "source": [
        "\n",
        "merged_dataset = {}\n",
        "merged_dataset.update(text_files_pos)\n",
        "merged_dataset.update(text_files_neg)\n",
        "\n",
        "for label, text in merged_dataset.items():\n",
        "    label = label[:8]\n",
        "    print(label,text)"
      ]
    },
    {
      "cell_type": "code",
      "execution_count": null,
      "metadata": {
        "id": "ujazmfjLkNRJ"
      },
      "outputs": [],
      "source": [
        "from sklearn.model_selection import train_test_split\n",
        "\n",
        "\n",
        "inputs = []\n",
        "labels = []\n",
        "for label, text in merged_dataset.items():\n",
        "    label_new = label[:8]\n",
        "    labels.append(label_new)\n",
        "    inputs.append(text)\n",
        "\n",
        "\n",
        "train_inputs, test_inputs, train_labels, test_labels = train_test_split(inputs, labels, test_size=0.2, random_state=42)\n",
        "\n",
        "\n",
        "train_dataset = dict(zip(train_inputs, train_labels))\n",
        "test_dataset = dict(zip(test_inputs, test_labels))\n",
        "\n",
        "\n",
        "for text, label in train_dataset.items():\n",
        "    print(\"Training:\", text, label)\n",
        "\n",
        "for text, label in test_dataset.items():\n",
        "    print(\"Testing:\", text, label)"
      ]
    },
    {
      "cell_type": "code",
      "execution_count": null,
      "metadata": {
        "id": "kz4JPYsbxcXv"
      },
      "outputs": [],
      "source": [
        "!pip install torch\n"
      ]
    },
    {
      "cell_type": "code",
      "execution_count": null,
      "metadata": {
        "id": "pKwVeNu44gvU"
      },
      "outputs": [],
      "source": [
        "tokenized_train = []\n",
        "tokenized_test = []\n",
        "tokenized_test_labels = []\n",
        "tokenized_train_labels = []\n",
        "for sentence in train_inputs:\n",
        "    tokens = araby.tokenize(sentence)\n",
        "    tokens = [token for token in tokens if not re.search(r\"[\\xa0\\n\\ufeff]\", token)]\n",
        "    tokenized_train.append(tokens)\n",
        "for sentence in test_inputs:\n",
        "    tokens = araby.tokenize(sentence)\n",
        "    tokens = [token for token in tokens if not re.search(r\"[\\xa0\\n\\ufeff]\", token)]\n",
        "    tokenized_test.append(tokens)\n",
        "for sentence in train_labels:\n",
        "    tokens = araby.tokenize(sentence)\n",
        "    tokens = [token for token in tokens if not re.search(r\"[\\xa0\\n\\ufeff]\", token)]\n",
        "    tokenized_train_labels.append(tokens)\n",
        "for sentence in test_labels:\n",
        "    tokens = araby.tokenize(sentence)\n",
        "    tokens = [token for token in tokens if not re.search(r\"[\\xa0\\n\\ufeff]\", token)]\n",
        "    tokenized_test_labels.append(tokens)\n",
        "\n",
        "for tokens in tokenized_train:\n",
        "    print(tokens)\n"
      ]
    },
    {
      "cell_type": "code",
      "execution_count": null,
      "metadata": {
        "id": "JKYbSktv7z6t"
      },
      "outputs": [],
      "source": [
        "print(tokenized_train)"
      ]
    },
    {
      "cell_type": "code",
      "execution_count": null,
      "metadata": {
        "id": "IaHj7Vdk8f0i"
      },
      "outputs": [],
      "source": [
        "!pip install torchtext"
      ]
    },
    {
      "cell_type": "code",
      "execution_count": null,
      "metadata": {
        "id": "SFGsZTHozz1-"
      },
      "outputs": [],
      "source": [
        "!pip install tensorflow\n",
        "!pip install keras\n"
      ]
    },
    {
      "cell_type": "code",
      "execution_count": null,
      "metadata": {
        "id": "kFNPngxY0Uqj"
      },
      "outputs": [],
      "source": [
        "!pip install --upgrade tensorflow\n",
        "!pip install keras==2.4.3\n"
      ]
    },
    {
      "cell_type": "code",
      "execution_count": null,
      "metadata": {
        "id": "kEHcatItw0Yf"
      },
      "outputs": [],
      "source": [
        "import numpy as np\n",
        "\n",
        "\n",
        "vocab_train = {}\n",
        "vocab_train_labels = {}\n",
        "vocab_test = {}\n",
        "vocab_test_labels = {}\n",
        "encoded_sentences_train = []\n",
        "encoded_sentences_test = []\n",
        "encoded_sentences_train_labels = []\n",
        "encoded_sentences_test_labels = []\n",
        "\n",
        "# Numerical encoding\n",
        "for sentence in tokenized_train:\n",
        "    encoded_sentence = [vocab_train.setdefault(token, len(vocab_train)) for token in sentence]\n",
        "    encoded_sentences_train.append(encoded_sentence)\n",
        "\n",
        "for sentence in tokenized_test:\n",
        "    encoded_sentence = [vocab_test.setdefault(token, len(vocab_test)) for token in sentence]\n",
        "    encoded_sentences_test.append(encoded_sentence)\n",
        "\n",
        "for sentence in tokenized_train_labels:\n",
        "    encoded_sentence = [vocab_train_labels.setdefault(token, len(vocab_train_labels)) for token in sentence]\n",
        "    encoded_sentences_train_labels.append(encoded_sentence)\n",
        "\n",
        "for sentence in tokenized_test_labels:\n",
        "    encoded_sentence = [vocab_test_labels.setdefault(token, len(vocab_test_labels)) for token in sentence]\n",
        "    encoded_sentences_test_labels.append(encoded_sentence)\n",
        "\n",
        "\n",
        "max_length_train = max(len(seq) for seq in encoded_sentences_train)\n",
        "padded_sequences_train = np.zeros((len(encoded_sentences_train), max_length_train), dtype=int)\n",
        "for i, seq in enumerate(encoded_sentences_train):\n",
        "    padded_sequences_train[i, :len(seq)] = seq\n",
        "\n",
        "max_length_test = max(len(seq) for seq in encoded_sentences_test)\n",
        "padded_sequences_test = np.zeros((len(encoded_sentences_test), max_length_test), dtype=int)\n",
        "for i, seq in enumerate(encoded_sentences_test):\n",
        "    padded_sequences_test[i, :len(seq)] = seq\n",
        "\n",
        "max_length_train_labels = max(len(seq) for seq in encoded_sentences_train_labels)\n",
        "padded_sequences_train_labels = np.zeros((len(encoded_sentences_train_labels), max_length_train_labels), dtype=int)\n",
        "for i, seq in enumerate(encoded_sentences_train_labels):\n",
        "    padded_sequences_train_labels[i, :len(seq)] = seq\n",
        "\n",
        "max_length_test_labels = max(len(seq) for seq in encoded_sentences_test_labels)\n",
        "padded_sequences_test_labels = np.zeros((len(encoded_sentences_test_labels), max_length_test_labels), dtype=int)\n",
        "for i, seq in enumerate(encoded_sentences_test_labels):\n",
        "    padded_sequences_test_labels[i, :len(seq)] = seq\n",
        "\n",
        "\n",
        "print(padded_sequences_train)\n",
        "print(padded_sequences_test)\n",
        "print(padded_sequences_train_labels)\n",
        "print(padded_sequences_test_labels)\n"
      ]
    },
    {
      "cell_type": "code",
      "execution_count": null,
      "metadata": {
        "id": "dVdXV1LR3-uY"
      },
      "outputs": [],
      "source": [
        "import numpy as np\n",
        "\n",
        "\n",
        "# max_length = max(len(seq) for seq in padded_sequences_train)\n",
        "max_length = 175\n",
        "\n",
        "\n",
        "vectorized_sequences_train = []\n",
        "for seq in padded_sequences_train:\n",
        "    padded_seq = np.pad(seq, (0, max_length - len(seq)), 'constant')  # Pad with zeros\n",
        "    vectorized_sequences_train.append(padded_seq)\n",
        "\n",
        "\n",
        "vectorized_sequences_train = np.array(vectorized_sequences_train)\n",
        "\n",
        "\n",
        "print(vectorized_sequences_train)\n",
        "print(vectorized_sequences_train.shape)\n"
      ]
    },
    {
      "cell_type": "code",
      "execution_count": null,
      "metadata": {
        "id": "suNX7XbKBa7x"
      },
      "outputs": [],
      "source": [
        "print(vectorized_sequences_train)"
      ]
    },
    {
      "cell_type": "code",
      "execution_count": null,
      "metadata": {
        "id": "9SMuUp9k4KYg"
      },
      "outputs": [],
      "source": [
        "import numpy as np\n",
        "\n",
        "# Determine the maximum sequence length\n",
        "max_length = max(len(seq) for seq in padded_sequences_test)\n",
        "print(max_length)\n",
        "# max_length = 145\n",
        "\n",
        "# Pad the sequences\n",
        "vectorized_sequences_test = []\n",
        "for seq in padded_sequences_test:\n",
        "    padded_seq = np.pad(seq, (0, max_length - len(seq)), 'constant')  # Pad with zeros\n",
        "    vectorized_sequences_test.append(padded_seq)\n",
        "\n",
        "# Convert to NumPy array\n",
        "vectorized_sequences_test = np.array(vectorized_sequences_test)\n",
        "\n",
        "# Print the vectorized sequences\n",
        "print(vectorized_sequences_test)\n",
        "print(vectorized_sequences_test.shape)\n"
      ]
    },
    {
      "cell_type": "code",
      "execution_count": null,
      "metadata": {
        "id": "CaI_L2lw4h10"
      },
      "outputs": [],
      "source": [
        "import numpy as np\n",
        "\n",
        "# Determine the maximum sequence length\n",
        "max_length = max(len(seq) for seq in padded_sequences_train_labels)\n",
        "\n",
        "# Pad the sequences\n",
        "vectorized_sequences_train_labels = []\n",
        "for seq in padded_sequences_train_labels:\n",
        "    padded_seq = np.pad(seq, (0, max_length - len(seq)), 'constant')  # Pad with zeros\n",
        "    vectorized_sequences_train_labels.append(padded_seq)\n",
        "\n",
        "# Convert to NumPy array\n",
        "vectorized_sequences_train_labels = np.array(vectorized_sequences_train_labels)\n",
        "\n",
        "# Print the vectorized sequences\n",
        "print(vectorized_sequences_train_labels)\n"
      ]
    },
    {
      "cell_type": "code",
      "execution_count": null,
      "metadata": {
        "id": "MnlN8cVQ49Db"
      },
      "outputs": [],
      "source": [
        "import numpy as np\n",
        "\n",
        "# Determine the maximum sequence length\n",
        "max_length = max(len(seq) for seq in padded_sequences_test_labels)\n",
        "\n",
        "# Pad the sequences\n",
        "vectorized_sequences_test_labels = []\n",
        "for seq in padded_sequences_test_labels:\n",
        "    padded_seq = np.pad(seq, (0, max_length - len(seq)), 'constant')  # Pad with zeros\n",
        "    vectorized_sequences_test_labels.append(padded_seq)\n",
        "\n",
        "# Convert to NumPy array\n",
        "vectorized_sequences_test_labels = np.array(vectorized_sequences_test_labels)\n",
        "\n",
        "# Print the vectorized sequences\n",
        "print(vectorized_sequences_test_labels)\n"
      ]
    },
    {
      "cell_type": "code",
      "execution_count": null,
      "metadata": {
        "id": "7l5jmh_IKvRk"
      },
      "outputs": [],
      "source": [
        "!pip install tensorflow\n",
        "!pip install numpy\n",
        "!pip install keras"
      ]
    },
    {
      "cell_type": "code",
      "execution_count": null,
      "metadata": {
        "id": "b3k86_NQvia7"
      },
      "outputs": [],
      "source": [
        "print(vectorized_sequences_train)"
      ]
    },
    {
      "cell_type": "code",
      "execution_count": null,
      "metadata": {
        "id": "X1C11luRFr9W"
      },
      "outputs": [],
      "source": [
        "import numpy as np\n",
        "import keras\n",
        "from keras.models import Sequential\n",
        "from keras.layers import LSTM, Dense\n",
        "from sklearn.metrics import classification_report\n",
        "\n",
        "input_size = 100\n",
        "hidden_size = 64\n",
        "num_layers = 1\n",
        "output_size = 2\n",
        "\n",
        "train_input = vectorized_sequences_train\n",
        "train_labels = vectorized_sequences_train_labels\n",
        "train_input = np.reshape(train_input, (train_input.shape[0], 1, -1))\n",
        "\n",
        "model = Sequential()\n",
        "model.add(LSTM(hidden_size, input_shape=(1, train_input.shape[2])))\n",
        "model.add(Dense(output_size, activation='softmax'))\n",
        "\n",
        "model.compile(loss='sparse_categorical_crossentropy', optimizer='adam')\n",
        "\n",
        "model.fit(train_input, train_labels, batch_size=16, epochs=20)\n",
        "\n",
        "test_input = vectorized_sequences_test\n",
        "test_labels = vectorized_sequences_test_labels\n",
        "\n",
        "print(\"Train input shape:\", train_input.shape)\n",
        "print(\"Train labels shape:\", train_labels.shape)\n",
        "print(\"Test input shape:\", test_input.shape)\n",
        "print(\"Test labels shape:\", test_labels.shape)\n",
        "\n",
        "test_input = np.reshape(test_input, (test_input.shape[0], 1, -1))\n",
        "\n",
        "# Evaluation\n",
        "loss = model.evaluate(test_input, test_labels)\n",
        "print(\"Test loss:\", loss)\n",
        "\n",
        "predictions = model.predict(test_input)\n",
        "predicted_labels = np.argmax(predictions, axis=1)\n",
        "accuracy = np.mean(predicted_labels == test_labels)\n",
        "print(\"Accuracy:\", accuracy)\n",
        "\n",
        "report = classification_report(test_labels, predicted_labels)\n",
        "print(\"Classification Report:\")\n",
        "print(report)\n"
      ]
    },
    {
      "cell_type": "code",
      "execution_count": null,
      "metadata": {
        "id": "57LE34dfA92j"
      },
      "outputs": [],
      "source": [
        "import numpy as np\n",
        "import matplotlib.pyplot as plt\n",
        "import seaborn as sns\n",
        "from sklearn.metrics import confusion_matrix\n",
        "\n",
        "\n",
        "predictions = model.predict(test_input)\n",
        "predicted_labels = np.argmax(predictions, axis=1)\n",
        "\n",
        "cm = confusion_matrix(test_labels, predicted_labels)\n",
        "\n",
        "\n",
        "class_labels = ['Class 0', 'Class 1']\n",
        "\n",
        "\n",
        "plt.figure(figsize=(8, 6))\n",
        "sns.heatmap(cm, annot=True, fmt='d', cmap='Blues', xticklabels=class_labels, yticklabels=class_labels)\n",
        "plt.title('Confusion Matrix')\n",
        "plt.xlabel('Predicted Label')\n",
        "plt.ylabel('True Label')\n",
        "plt.show()\n"
      ]
    },
    {
      "cell_type": "code",
      "execution_count": null,
      "metadata": {
        "id": "-66uNh_62bm-"
      },
      "outputs": [],
      "source": [
        "import numpy as np\n",
        "import keras\n",
        "from keras.models import Sequential\n",
        "from keras.layers import LSTM, Dense, Dropout\n",
        "from keras.optimizers import Adam\n",
        "from keras.callbacks import ReduceLROnPlateau, EarlyStopping\n",
        "from sklearn.metrics import classification_report\n",
        "\n",
        "input_size = 100\n",
        "hidden_size = 64\n",
        "num_layers = 1\n",
        "output_size = 2\n",
        "batch_size = 8\n",
        "epochs = 50\n",
        "validation_split = 0.2\n",
        "\n",
        "train_input = vectorized_sequences_train\n",
        "train_labels = vectorized_sequences_train_labels\n",
        "train_input = np.reshape(train_input, (train_input.shape[0], 1, -1))\n",
        "\n",
        "model = Sequential()\n",
        "model.add(LSTM(hidden_size, input_shape=(1, train_input.shape[2])))\n",
        "model.add(Dropout(0.2))\n",
        "model.add(Dense(output_size, activation='softmax'))\n",
        "\n",
        "model.compile(loss='sparse_categorical_crossentropy', optimizer=Adam(), metrics=['accuracy'])\n",
        "\n",
        "# Define callbacks\n",
        "reduce_lr = ReduceLROnPlateau(monitor='val_loss', patience=5, factor=0.2, min_lr=1e-6)\n",
        "early_stop = EarlyStopping(monitor='val_loss', patience=10, restore_best_weights=True)\n",
        "\n",
        "\n",
        "history = model.fit(train_input, train_labels, batch_size=batch_size, epochs=epochs,\n",
        "                    validation_split=validation_split, callbacks=[reduce_lr, early_stop])\n",
        "\n",
        "# Evaluate on test set\n",
        "test_input = vectorized_sequences_test\n",
        "test_labels = vectorized_sequences_test_labels\n",
        "test_input = np.reshape(test_input, (test_input.shape[0], 1, -1))\n",
        "loss, accuracy = model.evaluate(test_input, test_labels)\n",
        "print(\"Test loss:\", loss)\n",
        "print(\"Test accuracy:\", accuracy)\n",
        "\n",
        "\n",
        "predictions = model.predict(test_input)\n",
        "predicted_labels = np.argmax(predictions, axis=1)\n",
        "accuracy = np.mean(predicted_labels == test_labels)\n",
        "print(\"Accuracy:\", accuracy)\n",
        "\n",
        "# Print classification report\n",
        "report = classification_report(test_labels, predicted_labels)\n",
        "print(\"Classification Report:\")\n",
        "print(report)\n"
      ]
    },
    {
      "cell_type": "code",
      "execution_count": null,
      "metadata": {
        "id": "XlltmjFGE94T"
      },
      "outputs": [],
      "source": [
        "import numpy as np\n",
        "import matplotlib.pyplot as plt\n",
        "import seaborn as sns\n",
        "from sklearn.metrics import confusion_matrix\n",
        "\n",
        "\n",
        "predictions = model.predict(test_input)\n",
        "predicted_labels = np.argmax(predictions, axis=1)\n",
        "\n",
        "\n",
        "cm = confusion_matrix(test_labels, predicted_labels)\n",
        "\n",
        "\n",
        "class_labels = ['Class 0', 'Class 1']\n",
        "\n",
        "# Plot the confusion matrix\n",
        "plt.figure(figsize=(8, 6))\n",
        "sns.heatmap(cm, annot=True, fmt='d', cmap='Blues', xticklabels=class_labels, yticklabels=class_labels)\n",
        "plt.title('Confusion Matrix')\n",
        "plt.xlabel('Predicted Label')\n",
        "plt.ylabel('True Label')\n",
        "plt.show()\n"
      ]
    },
    {
      "cell_type": "code",
      "execution_count": null,
      "metadata": {
        "id": "uF54TBwI7qTZ"
      },
      "outputs": [],
      "source": [
        "!pip install transformers\n",
        "!pip install tensorflow"
      ]
    },
    {
      "cell_type": "code",
      "execution_count": null,
      "metadata": {
        "id": "NhymTRCv8i1K"
      },
      "outputs": [],
      "source": [
        "pip install --upgrade transformers\n"
      ]
    },
    {
      "cell_type": "code",
      "execution_count": null,
      "metadata": {
        "id": "JG4_y9PPFHUW"
      },
      "outputs": [],
      "source": [
        "pip install arabert"
      ]
    },
    {
      "cell_type": "code",
      "execution_count": null,
      "metadata": {
        "id": "iZ5iuZAeFJQ4"
      },
      "outputs": [],
      "source": [
        "from transformers import GPT2TokenizerFast, pipeline\n",
        "#for base and medium\n",
        "from transformers import GPT2LMHeadModel\n",
        "from arabert.aragpt2.grover.modeling_gpt2 import GPT2LMHeadModel\n",
        "\n",
        "from arabert.preprocess import ArabertPreprocessor\n",
        "\n",
        "MODEL_NAME='aubmindlab/aragpt2-base'\n",
        "arabert_prep = ArabertPreprocessor(model_name=MODEL_NAME)\n",
        "\n",
        "text=train_input\n",
        "text_clean = arabert_prep.preprocess(text)\n",
        "\n",
        "model = GPT2LMHeadModel.from_pretrained(MODEL_NAME)\n",
        "tokenizer = GPT2TokenizerFast.from_pretrained(MODEL_NAME)\n",
        "generation_pipeline = pipeline(\"text-generation\",model=model,tokenizer=tokenizer)\n",
        "\n",
        "#feel free to try different decoding settings\n",
        "generation_pipeline(text,\n",
        "    pad_token_id=tokenizer.eos_token_id,\n",
        "    num_beams=10,\n",
        "    max_length=200,\n",
        "    top_p=0.9,\n",
        "    repetition_penalty = 3.0,\n",
        "    no_repeat_ngram_size = 3)[0]['generated_text']"
      ]
    },
    {
      "cell_type": "markdown",
      "metadata": {
        "id": "9TZwtNfft8RG"
      },
      "source": []
    }
  ],
  "metadata": {
    "accelerator": "GPU",
    "colab": {
      "provenance": [],
      "gpuType": "T4"
    },
    "kernelspec": {
      "display_name": "Python 3",
      "name": "python3"
    },
    "language_info": {
      "codemirror_mode": {
        "name": "ipython",
        "version": 3
      },
      "file_extension": ".py",
      "mimetype": "text/x-python",
      "name": "python",
      "nbconvert_exporter": "python",
      "pygments_lexer": "ipython3",
      "version": "3.10.0"
    }
  },
  "nbformat": 4,
  "nbformat_minor": 0
}